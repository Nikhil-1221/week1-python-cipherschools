{
 "cells": [
  {
   "attachments": {},
   "cell_type": "markdown",
   "metadata": {},
   "source": [
    "Conditional Statements - if-elif-else"
   ]
  },
  {
   "attachments": {},
   "cell_type": "markdown",
   "metadata": {},
   "source": [
    "if (true) {\n",
    "    \n",
    "}"
   ]
  },
  {
   "attachments": {},
   "cell_type": "markdown",
   "metadata": {},
   "source": [
    "1. abc\n",
    "     1. 123"
   ]
  },
  {
   "attachments": {},
   "cell_type": "markdown",
   "metadata": {},
   "source": [
    "- asldjf\n",
    "    - asdf\n",
    "    - dhjd\n",
    "- jssj"
   ]
  },
  {
   "attachments": {},
   "cell_type": "markdown",
   "metadata": {},
   "source": [
    "1 indent = 2space , 4 space , 8 space , Tab"
   ]
  },
  {
   "attachments": {},
   "cell_type": "markdown",
   "metadata": {},
   "source": [
    "{\n",
    "    int a = 1\n",
    "}"
   ]
  },
  {
   "cell_type": "code",
   "execution_count": 6,
   "metadata": {},
   "outputs": [
    {
     "name": "stdout",
     "output_type": "stream",
     "text": [
      "the value is true\n",
      "end\n"
     ]
    }
   ],
   "source": [
    "a = True\n",
    "if a:\n",
    "    print(\"the value is true\")\n",
    "print(\"end\")"
   ]
  },
  {
   "cell_type": "code",
   "execution_count": 7,
   "metadata": {},
   "outputs": [
    {
     "name": "stdout",
     "output_type": "stream",
     "text": [
      "end\n"
     ]
    }
   ],
   "source": [
    "a = False\n",
    "if a:\n",
    "    print(\"the value is true\")\n",
    "print(\"end\")"
   ]
  },
  {
   "cell_type": "code",
   "execution_count": 9,
   "metadata": {},
   "outputs": [
    {
     "name": "stdout",
     "output_type": "stream",
     "text": [
      "this value is true\n"
     ]
    }
   ],
   "source": [
    "a = True\n",
    "if a:\n",
    "    print(\"this value is true\")\n",
    "else:\n",
    "    print(\"this value is false\")  "
   ]
  },
  {
   "cell_type": "code",
   "execution_count": 10,
   "metadata": {},
   "outputs": [
    {
     "name": "stdout",
     "output_type": "stream",
     "text": [
      "this value is false\n"
     ]
    }
   ],
   "source": [
    "a = False\n",
    "if a:\n",
    "    print(\"this value is true\")\n",
    "else:\n",
    "    print(\"this value is false\")  "
   ]
  },
  {
   "cell_type": "code",
   "execution_count": 12,
   "metadata": {},
   "outputs": [
    {
     "name": "stdout",
     "output_type": "stream",
     "text": [
      "this value is 3\n"
     ]
    }
   ],
   "source": [
    "a = 3\n",
    "if a == 3:\n",
    "    print(\"this value is 3\")\n",
    "elif a == 5:\n",
    "    print(\"the value is 5\")\n",
    "else:\n",
    "    print(\"this value is not 3 or 5\") "
   ]
  },
  {
   "cell_type": "code",
   "execution_count": 13,
   "metadata": {},
   "outputs": [
    {
     "name": "stdout",
     "output_type": "stream",
     "text": [
      "the value is 5\n"
     ]
    }
   ],
   "source": [
    "a = 5\n",
    "if a == 3:\n",
    "    print(\"this value is 3\")\n",
    "elif a == 5:\n",
    "    print(\"the value is 5\")\n",
    "else:\n",
    "    print(\"this value is not 3 or 5\")  "
   ]
  },
  {
   "cell_type": "code",
   "execution_count": 14,
   "metadata": {},
   "outputs": [
    {
     "name": "stdout",
     "output_type": "stream",
     "text": [
      "this value is not 3 or 5\n"
     ]
    }
   ],
   "source": [
    "a = 10\n",
    "if a == 3:\n",
    "    print(\"this value is 3\")\n",
    "elif a == 5:\n",
    "    print(\"the value is 5\")\n",
    "else:\n",
    "    print(\"this value is not 3 or 5\") "
   ]
  },
  {
   "attachments": {},
   "cell_type": "markdown",
   "metadata": {},
   "source": [
    "x: int (- infinite , infinite)\n",
    "G -> x\n",
    "\n",
    "a = x < 0\n",
    "b = x == 0\n",
    "c = x > 0\n",
    "\n",
    "a intersection b = b intersection c = a intersection c = phi\n",
    "\n",
    "conditions are mutually exclusive\n",
    "then we use only if or elif\n",
    "\n",
    "a union b union c != G\n",
    "then we use only else"
   ]
  },
  {
   "attachments": {},
   "cell_type": "markdown",
   "metadata": {},
   "source": [
    "q = Can profile A acess profile B\n",
    "\n",
    "a = is Friend\n",
    "b = is Blocked\n",
    "c = is Admin\n",
    "d = is Markzucerberg\n",
    "\n",
    "a b c d q\n",
    "0 0 0 0 0\n",
    "0 0 0 1 1\n",
    "0 0 1 0 1\n",
    "0 0 1 1 1\n",
    "0 1 0 0 0\n",
    "0 1 0 1 1\n",
    "0 1 1 0 1\n",
    "0 1 1 1 1\n",
    "1 0 0 0 1\n",
    "1 0 0 1 1\n",
    "1 0 1 0 1\n",
    "1 0 1 1 1\n",
    "1 1 0 0 0\n",
    "1 1 0 1 1\n",
    "1 1 1 0 0\n",
    "1 1 1 1 1\n",
    "\n",
    "if ______:\n",
    "    print(\"has access\")\n",
    "else:\n",
    "    print(\"access denied\")"
   ]
  }
 ],
 "metadata": {
  "kernelspec": {
   "display_name": "Python 3",
   "language": "python",
   "name": "python3"
  },
  "language_info": {
   "codemirror_mode": {
    "name": "ipython",
    "version": 3
   },
   "file_extension": ".py",
   "mimetype": "text/x-python",
   "name": "python",
   "nbconvert_exporter": "python",
   "pygments_lexer": "ipython3",
   "version": "3.10.9 (tags/v3.10.9:1dd9be6, Dec  6 2022, 20:01:21) [MSC v.1934 64 bit (AMD64)]"
  },
  "orig_nbformat": 4,
  "vscode": {
   "interpreter": {
    "hash": "8aaf6190f2ea488e76ce5279ff8f64a665fb1b63574a8c8ad8a31b286a6d13fd"
   }
  }
 },
 "nbformat": 4,
 "nbformat_minor": 2
}
